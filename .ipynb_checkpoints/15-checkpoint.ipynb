{
 "cells": [
  {
   "cell_type": "code",
   "execution_count": 6,
   "metadata": {},
   "outputs": [],
   "source": [
    "class Card:\n",
    "    suits=['spades','heart','diamonds','clubs']\n",
    "    values=[None,None,'2','3','4','5','6','7','8','9','10','Jack','Queen','King','Ace']\n",
    "    \n",
    "    def __init__(self,v,s):\n",
    "        '''スート(マーク)の値も整数値です'''\n",
    "        self.value=v\n",
    "        self.suit=s\n",
    "        \n",
    "    def __lt__(self,c2):\n",
    "        if self.value<c2.value:\n",
    "            return True\n",
    "        if self.value==c2.value:\n",
    "            if self.suit<c2.suit:\n",
    "                return True\n",
    "            else:\n",
    "                return False\n",
    "        return False\n",
    "    \n",
    "    def __gt__(self,c2):\n",
    "        if self.value>c2.value:\n",
    "            return True\n",
    "        if self.value==c2.value:\n",
    "            if self.suit>c2.suit:\n",
    "                return True\n",
    "            else:\n",
    "                return False\n",
    "        return False\n",
    "    \n",
    "    def __repr__(self):\n",
    "        v=self.values[self.value]+' of ' +self.suits[self.suit]\n",
    "        return v"
   ]
  },
  {
   "cell_type": "code",
   "execution_count": 7,
   "metadata": {},
   "outputs": [
    {
     "name": "stdout",
     "output_type": "stream",
     "text": [
      "True\n"
     ]
    }
   ],
   "source": [
    "card1=Card(10,2)\n",
    "card2=Card(11,3)\n",
    "print(card1 < card2)"
   ]
  },
  {
   "cell_type": "code",
   "execution_count": 8,
   "metadata": {},
   "outputs": [
    {
     "name": "stdout",
     "output_type": "stream",
     "text": [
      "3 of diamonds\n"
     ]
    }
   ],
   "source": [
    "card=Card(3,2)\n",
    "print(card)"
   ]
  },
  {
   "cell_type": "code",
   "execution_count": 18,
   "metadata": {},
   "outputs": [],
   "source": [
    "\n",
    "from random import shuffle\n",
    "\n",
    "class Deck:\n",
    "    def __init__(self):\n",
    "        self.cards=[]\n",
    "        for i in range(2,15):\n",
    "            for j in range(0,4):\n",
    "                self.cards.append(Card(i,j))\n",
    "        shuffle(self.cards)\n",
    "        \n",
    "    def rm_card(self):\n",
    "        if len(self.cards)==0:\n",
    "            return\n",
    "        return self.cards.pop()"
   ]
  },
  {
   "cell_type": "code",
   "execution_count": 20,
   "metadata": {},
   "outputs": [
    {
     "name": "stdout",
     "output_type": "stream",
     "text": [
      "10 of heart\n",
      "5 of spades\n",
      "9 of spades\n",
      "Ace of diamonds\n",
      "6 of spades\n",
      "6 of diamonds\n",
      "Ace of heart\n",
      "9 of heart\n",
      "3 of diamonds\n",
      "8 of clubs\n",
      "5 of diamonds\n",
      "2 of clubs\n",
      "10 of diamonds\n",
      "Ace of spades\n",
      "5 of heart\n",
      "Jack of spades\n",
      "6 of clubs\n",
      "Ace of clubs\n",
      "9 of diamonds\n",
      "7 of diamonds\n",
      "8 of diamonds\n",
      "King of diamonds\n",
      "King of clubs\n",
      "10 of spades\n",
      "2 of diamonds\n",
      "8 of spades\n",
      "3 of spades\n",
      "Queen of heart\n",
      "7 of spades\n",
      "King of spades\n",
      "4 of heart\n",
      "2 of heart\n",
      "King of heart\n",
      "4 of spades\n",
      "Queen of spades\n",
      "9 of clubs\n",
      "Jack of clubs\n",
      "8 of heart\n",
      "Queen of clubs\n",
      "3 of clubs\n",
      "3 of heart\n",
      "4 of diamonds\n",
      "Queen of diamonds\n",
      "4 of clubs\n",
      "6 of heart\n",
      "10 of clubs\n",
      "7 of clubs\n",
      "7 of heart\n",
      "Jack of heart\n",
      "5 of clubs\n",
      "Jack of diamonds\n",
      "2 of spades\n"
     ]
    }
   ],
   "source": [
    "deck=Deck()\n",
    "for card in deck.cards:\n",
    "    print(card)"
   ]
  },
  {
   "cell_type": "code",
   "execution_count": 21,
   "metadata": {},
   "outputs": [],
   "source": [
    "class Player:\n",
    "    def __init__(self,name):\n",
    "        self.wins=0\n",
    "        self.card=None\n",
    "        self.name =name\n",
    "        "
   ]
  },
  {
   "cell_type": "code",
   "execution_count": 27,
   "metadata": {},
   "outputs": [],
   "source": [
    "from random import shuffle\n",
    "\n",
    "class Card:\n",
    "    suits=['spades','heart','diamonds','clubs']\n",
    "    values=[None,None,'2','3','4','5','6','7','8','9','10','Jack','Queen','King','Ace']\n",
    "    \n",
    "    def __init__(self,v,s):\n",
    "        '''suit(マーク)の値も整数値です'''\n",
    "        self.value=v\n",
    "        self.suit=s\n",
    "        \n",
    "    def __lt__(self,c2):\n",
    "        if self.value<c2.value:\n",
    "            return True\n",
    "        if self.value==c2.value:\n",
    "            if self.suit<c2.suit:\n",
    "                return True\n",
    "            else:\n",
    "                return False\n",
    "        return False\n",
    "    \n",
    "    def __gt__(self,c2):\n",
    "        if self.value>c2.value:\n",
    "            return True\n",
    "        if self.value==c2.value:\n",
    "            if self.suit>c2.suit:\n",
    "                return True\n",
    "            else:\n",
    "                return False\n",
    "        return False\n",
    "    \n",
    "    def __repr__(self):\n",
    "        v=self.values[self.value]+' of ' +self.suits[self.suit]\n",
    "        return v\n",
    "\n",
    "\n",
    "\n",
    "class Deck:\n",
    "    def __init__(self):\n",
    "        self.cards=[]\n",
    "        for i in range(2,15):\n",
    "            for j in range(0,4):\n",
    "                self.cards.append(Card(i,j))\n",
    "        shuffle(self.cards)\n",
    "        \n",
    "    def rm_card(self):\n",
    "        if len(self.cards)==0:\n",
    "            return\n",
    "        return self.cards.pop()\n",
    "    \n",
    "    \n",
    "class Player:\n",
    "    def __init__(self,name):\n",
    "        self.wins=0\n",
    "        self.card=None\n",
    "        self.name =name\n",
    "        \n",
    "    \n",
    "class Game:\n",
    "    def __init__(self):\n",
    "        name1=input('プレイヤー1の名前')\n",
    "        name2=input('プレイヤー2の名前')\n",
    "        self.deck=Deck()\n",
    "        self.p1=Player(name1)\n",
    "        self.p2=Player(name2)\n",
    "        \n",
    "    def wins(self,winner):\n",
    "        w='このラウンドは{}が勝ちました'\n",
    "        w=w.format(winner)\n",
    "        print(w)\n",
    "        \n",
    "    def draw(self,p1n,p1c,p2n,p2c):\n",
    "        d ='{}は{}、{}は{}を引きました'\n",
    "        d = d.format(p1n,p1c,p2n,p2c)\n",
    "        print(d)\n",
    "        \n",
    "    def play_game(self):\n",
    "        cards=self.deck.cards\n",
    "        print('戦争を始めます！')\n",
    "        while len(cards)>= 2:\n",
    "            m = 'qで終了、それ以外のキーでPlay:'\n",
    "            response=input(m)\n",
    "            if response == 'q':\n",
    "                break\n",
    "            p1c=self.deck.rm_card()\n",
    "            p2c=self.deck.rm_card()\n",
    "            p1n=self.p1.name\n",
    "            p2n=self.p2.name\n",
    "            self.draw(p1n,p1c,p2n,p2c)\n",
    "            if p1c>p2c:\n",
    "                self.p1.wins+=1\n",
    "                self.wins(self.p1.name)\n",
    "            else:\n",
    "                self.p2.wins+=1\n",
    "                self.wins(self.p2.name)\n",
    "                \n",
    "        win = self.winner(self.p1,self.p2)\n",
    "        print('ゲーム終了、{}の勝利です！'.format(win))\n",
    "        \n",
    "    def winner(self,p1,p2):\n",
    "        if p1.wins > p2.wins:\n",
    "            return p1.name\n",
    "        if p1.wins < p2.wins:\n",
    "            return p2.name\n",
    "        return '引き分け！'\n",
    "    \n"
   ]
  },
  {
   "cell_type": "code",
   "execution_count": 31,
   "metadata": {},
   "outputs": [
    {
     "name": "stdout",
     "output_type": "stream",
     "text": [
      "プレイヤー1の名前sora\n",
      "プレイヤー2の名前aho\n",
      "戦争を始めます！\n",
      "qで終了、それ以外のキーでPlay:w\n",
      "soraはAce of spades、ahoはJack of clubsを引きました\n",
      "このラウンドはsoraが勝ちました\n",
      "qで終了、それ以外のキーでPlay:w\n",
      "soraは6 of heart、ahoは2 of spadesを引きました\n",
      "このラウンドはsoraが勝ちました\n",
      "qで終了、それ以外のキーでPlay:w\n",
      "soraはKing of spades、ahoはJack of heartを引きました\n",
      "このラウンドはsoraが勝ちました\n",
      "qで終了、それ以外のキーでPlay:w\n",
      "soraは5 of clubs、ahoは8 of clubsを引きました\n",
      "このラウンドはahoが勝ちました\n",
      "qで終了、それ以外のキーでPlay:q\n",
      "ゲーム終了、soraの勝利です！\n"
     ]
    }
   ],
   "source": [
    "game =Game()\n",
    "game.play_game()"
   ]
  },
  {
   "cell_type": "code",
   "execution_count": 32,
   "metadata": {},
   "outputs": [
    {
     "name": "stdout",
     "output_type": "stream",
     "text": [
      "プレイヤー1の名前sora\n",
      "プレイヤー2の名前aho\n",
      "戦争を始めます！\n",
      "qで終了、それ以外のキーでPlay:e\n",
      "soraは4 of heart、ahoは2 of spadesを引きました\n",
      "このラウンドはsoraが勝ちました\n",
      "qで終了、それ以外のキーでPlay:e\n",
      "soraはKing of clubs、ahoは4 of clubsを引きました\n",
      "このラウンドはsoraが勝ちました\n",
      "qで終了、それ以外のキーでPlay:e\n",
      "soraはJack of clubs、ahoはQueen of spadesを引きました\n",
      "このラウンドはahoが勝ちました\n",
      "qで終了、それ以外のキーでPlay:e\n",
      "soraは5 of heart、ahoは7 of spadesを引きました\n",
      "このラウンドはahoが勝ちました\n",
      "qで終了、それ以外のキーでPlay:q\n",
      "ゲーム終了、引き分け！の勝利です！\n"
     ]
    }
   ],
   "source": [
    "game =Game()\n",
    "game.play_game()"
   ]
  },
  {
   "cell_type": "code",
   "execution_count": null,
   "metadata": {},
   "outputs": [],
   "source": []
  }
 ],
 "metadata": {
  "kernelspec": {
   "display_name": "Python 3",
   "language": "python",
   "name": "python3"
  },
  "language_info": {
   "codemirror_mode": {
    "name": "ipython",
    "version": 3
   },
   "file_extension": ".py",
   "mimetype": "text/x-python",
   "name": "python",
   "nbconvert_exporter": "python",
   "pygments_lexer": "ipython3",
   "version": "3.8.3"
  }
 },
 "nbformat": 4,
 "nbformat_minor": 4
}
