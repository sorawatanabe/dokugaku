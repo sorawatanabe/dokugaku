{
 "cells": [
  {
   "cell_type": "code",
   "execution_count": 2,
   "metadata": {},
   "outputs": [],
   "source": [
    "import math\n",
    "import pandas as pd"
   ]
  },
  {
   "cell_type": "code",
   "execution_count": 3,
   "metadata": {},
   "outputs": [
    {
     "data": {
      "text/plain": [
       "8.0"
      ]
     },
     "execution_count": 3,
     "metadata": {},
     "output_type": "execute_result"
    }
   ],
   "source": [
    "math.pow(2,3)"
   ]
  },
  {
   "cell_type": "code",
   "execution_count": 6,
   "metadata": {},
   "outputs": [
    {
     "data": {
      "text/plain": [
       "8.0"
      ]
     },
     "execution_count": 6,
     "metadata": {},
     "output_type": "execute_result"
    }
   ],
   "source": [
    "math.pow(2,3)"
   ]
  },
  {
   "cell_type": "code",
   "execution_count": 19,
   "metadata": {},
   "outputs": [
    {
     "name": "stdout",
     "output_type": "stream",
     "text": [
      "34\n",
      "6\n",
      "90\n",
      "3\n",
      "99\n",
      "81\n",
      "67\n",
      "45\n",
      "21\n",
      "3\n",
      "11\n",
      "39\n",
      "14\n",
      "68\n",
      "53\n",
      "94\n",
      "54\n",
      "42\n",
      "26\n",
      "19\n",
      "66\n",
      "2\n",
      "18\n",
      "89\n",
      "38\n",
      "87\n",
      "12\n",
      "69\n",
      "68\n",
      "39\n",
      "80\n",
      "85\n",
      "47\n",
      "37\n",
      "43\n",
      "31\n",
      "2\n",
      "24\n",
      "89\n",
      "16\n",
      "68\n",
      "85\n",
      "71\n",
      "7\n",
      "22\n",
      "32\n",
      "69\n",
      "51\n",
      "20\n",
      "43\n",
      "89\n",
      "58\n",
      "33\n",
      "26\n",
      "48\n",
      "96\n",
      "54\n",
      "53\n",
      "21\n",
      "38\n",
      "49\n",
      "43\n",
      "97\n",
      "64\n",
      "61\n",
      "33\n",
      "46\n",
      "54\n",
      "45\n",
      "24\n",
      "0\n",
      "67\n",
      "97\n",
      "38\n",
      "90\n",
      "6\n",
      "86\n",
      "77\n",
      "100\n",
      "16\n",
      "55\n",
      "40\n",
      "83\n",
      "8\n",
      "42\n",
      "23\n",
      "73\n",
      "41\n",
      "81\n",
      "78\n",
      "55\n",
      "39\n",
      "0\n",
      "4\n",
      "62\n",
      "38\n",
      "56\n",
      "26\n",
      "24\n",
      "97\n"
     ]
    }
   ],
   "source": [
    "import random\n",
    "\n",
    "#実行結果の出力は毎回変わるだろう\n",
    "#Because this is random!\n",
    "\n",
    "for i in range(0,100):\n",
    "    print(random.randint(0,100))\n",
    "    \n",
    "#random.randfloatはない、整数から作る。"
   ]
  },
  {
   "cell_type": "code",
   "execution_count": 14,
   "metadata": {},
   "outputs": [
    {
     "name": "stdout",
     "output_type": "stream",
     "text": [
      "18.857142857142858\n",
      "12\n",
      "33\n"
     ]
    }
   ],
   "source": [
    "import statistics\n",
    "\n",
    "#mean\n",
    "nums=[1,5,33,12,46,33,2]\n",
    "print(statistics.mean(nums))\n",
    "\n",
    "#median\n",
    "print(statistics.median(nums))\n",
    "\n",
    "#mode\n",
    "print(statistics.mode(nums))"
   ]
  },
  {
   "cell_type": "code",
   "execution_count": 20,
   "metadata": {},
   "outputs": [
    {
     "name": "stdout",
     "output_type": "stream",
     "text": [
      "True\n",
      "False\n"
     ]
    }
   ],
   "source": [
    "import keyword\n",
    "\n",
    "print(keyword.iskeyword('for'))\n",
    "print(keyword.iskeyword('football'))"
   ]
  },
  {
   "cell_type": "code",
   "execution_count": null,
   "metadata": {},
   "outputs": [],
   "source": []
  }
 ],
 "metadata": {
  "kernelspec": {
   "display_name": "Python 3",
   "language": "python",
   "name": "python3"
  },
  "language_info": {
   "codemirror_mode": {
    "name": "ipython",
    "version": 3
   },
   "file_extension": ".py",
   "mimetype": "text/x-python",
   "name": "python",
   "nbconvert_exporter": "python",
   "pygments_lexer": "ipython3",
   "version": "3.8.3"
  }
 },
 "nbformat": 4,
 "nbformat_minor": 4
}
