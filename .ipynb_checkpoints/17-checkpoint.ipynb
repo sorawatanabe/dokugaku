{
 "cells": [
  {
   "cell_type": "code",
   "execution_count": 1,
   "metadata": {},
   "outputs": [
    {
     "name": "stdout",
     "output_type": "stream",
     "text": [
      "['Beautiful']\n"
     ]
    }
   ],
   "source": [
    "import re\n",
    "l ='Beautiful is better than ugly.'\n",
    "matches =re.findall('Beautiful',l)\n",
    "\n",
    "print(matches)"
   ]
  },
  {
   "cell_type": "code",
   "execution_count": 2,
   "metadata": {},
   "outputs": [
    {
     "name": "stdout",
     "output_type": "stream",
     "text": [
      "['Beautiful']\n"
     ]
    }
   ],
   "source": [
    "import re\n",
    "l ='Beautiful is better than ugly.'\n",
    "matches =re.findall('Beautiful',l,re.IGNORECASE)\n",
    "\n",
    "print(matches)"
   ]
  },
  {
   "cell_type": "code",
   "execution_count": 4,
   "metadata": {},
   "outputs": [
    {
     "name": "stdout",
     "output_type": "stream",
     "text": [
      "['If', 'If']\n"
     ]
    }
   ],
   "source": [
    "import re\n",
    "\n",
    "zen='''Although never is\n",
    "often better than\n",
    "*right* now.\n",
    "If the implementation\n",
    "is hard to explain,\n",
    "it's a bad idea.\n",
    "If the implementation\n",
    "is easyto explain,\n",
    "it may be a good\n",
    "idea. Namespaces\n",
    "are one honking\n",
    "great idea --let's\n",
    "do more of those!'''\n",
    "\n",
    "m=re.findall('^If',zen,re.MULTILINE)\n",
    "print(m)"
   ]
  },
  {
   "cell_type": "code",
   "execution_count": null,
   "metadata": {},
   "outputs": [],
   "source": []
  }
 ],
 "metadata": {
  "kernelspec": {
   "display_name": "Python 3",
   "language": "python",
   "name": "python3"
  },
  "language_info": {
   "codemirror_mode": {
    "name": "ipython",
    "version": 3
   },
   "file_extension": ".py",
   "mimetype": "text/x-python",
   "name": "python",
   "nbconvert_exporter": "python",
   "pygments_lexer": "ipython3",
   "version": "3.8.3"
  }
 },
 "nbformat": 4,
 "nbformat_minor": 4
}
