{
 "cells": [
  {
   "cell_type": "code",
   "execution_count": 5,
   "metadata": {},
   "outputs": [
    {
     "name": "stdout",
     "output_type": "stream",
     "text": [
      "pかjのどちらかを入力してください。qで終わります:1\n",
      "不正な値です。\n",
      "pかjのどちらかを入力してください。qで終わります:q\n",
      "pop songs: []\n",
      "jpop songs: []\n"
     ]
    }
   ],
   "source": [
    "#手続き型プログラミング\n",
    "\n",
    "pop=[]\n",
    "jpop=[]\n",
    "\n",
    "def collect_songs():\n",
    "    song='曲名を入力してください:'\n",
    "    ask='pかjのどちらかを入力してください。qで終わります:'\n",
    "    \n",
    "    while True:\n",
    "        genre=input(ask)\n",
    "        if genre =='q':\n",
    "            break\n",
    "            \n",
    "        if genre =='p':\n",
    "            p=input(song)\n",
    "            pop.append(p)\n",
    "        elif genre =='j':\n",
    "            j=input(song)\n",
    "            jpop.append(j)\n",
    "        else:\n",
    "            print('不正な値です。')\n",
    "        \n",
    "    print('pop songs:',pop)\n",
    "    print('jpop songs:',jpop)\n",
    "    \n",
    "collect_songs()"
   ]
  },
  {
   "cell_type": "code",
   "execution_count": 6,
   "metadata": {},
   "outputs": [],
   "source": [
    "#副作用を起こす関数(関数外の変数を変更する)\n",
    "a=0\n",
    "\n",
    "def increment():\n",
    "    global a\n",
    "    a+=1"
   ]
  },
  {
   "cell_type": "code",
   "execution_count": 10,
   "metadata": {},
   "outputs": [
    {
     "data": {
      "text/plain": [
       "246"
      ]
     },
     "execution_count": 10,
     "metadata": {},
     "output_type": "execute_result"
    }
   ],
   "source": [
    "def increment(a):\n",
    "    return a+1\n",
    "\n",
    "increment(245)"
   ]
  },
  {
   "cell_type": "code",
   "execution_count": 11,
   "metadata": {},
   "outputs": [],
   "source": [
    "class Orange:\n",
    "    def __init__(self):\n",
    "        print('Created!')"
   ]
  },
  {
   "cell_type": "code",
   "execution_count": 16,
   "metadata": {},
   "outputs": [
    {
     "name": "stdout",
     "output_type": "stream",
     "text": [
      "Created!\n",
      "<__main__.Orange object at 0x0000015CEDE52100>\n",
      "10\n",
      "dark orange\n"
     ]
    }
   ],
   "source": [
    "class Orange:\n",
    "    def __init__(self,w,c):\n",
    "        self.weight=w\n",
    "        self.color=c\n",
    "        print('Created!')\n",
    "\n",
    "or1=Orange(10,'dark orange')\n",
    "print(or1)\n",
    "print(or1.weight)\n",
    "print(or1.color)"
   ]
  },
  {
   "cell_type": "code",
   "execution_count": 18,
   "metadata": {},
   "outputs": [
    {
     "name": "stdout",
     "output_type": "stream",
     "text": [
      "Created!\n",
      "100\n",
      "light orange\n"
     ]
    }
   ],
   "source": [
    "class Orange:\n",
    "    def __init__(self,w,c):\n",
    "        self.weight=w\n",
    "        self.color=c\n",
    "        print('Created!')\n",
    "\n",
    "or1=Orange(10,'dark orange')\n",
    "or1.weight=100\n",
    "or1.color='light orange'\n",
    "\n",
    "print(or1.weight)\n",
    "print(or1.color)"
   ]
  },
  {
   "cell_type": "code",
   "execution_count": 19,
   "metadata": {},
   "outputs": [
    {
     "name": "stdout",
     "output_type": "stream",
     "text": [
      "Created!\n",
      "Created!\n",
      "Created!\n"
     ]
    }
   ],
   "source": [
    "class Orange:\n",
    "    def __init__(self,w,c):\n",
    "        self.weight=w\n",
    "        self.color=c\n",
    "        print('Created!')\n",
    "\n",
    "or1=Orange(10,'dark orange')\n",
    "or2=Orange(8,'light orange')\n",
    "or3=Orange(11,'yellow')"
   ]
  },
  {
   "cell_type": "code",
   "execution_count": 20,
   "metadata": {},
   "outputs": [
    {
     "name": "stdout",
     "output_type": "stream",
     "text": [
      "Created!\n",
      "0\n",
      "370\n"
     ]
    }
   ],
   "source": [
    "class Orange:\n",
    "    def __init__(self,w,c):\n",
    "        '''weight(重さ)はグラム'''\n",
    "        self.weight=w\n",
    "        self.color=c\n",
    "        self.mold=0\n",
    "        print('Created!')\n",
    "        \n",
    "    def rot(self,days,temp):\n",
    "        '''temp(温度)はセ氏'''\n",
    "        self.mold=days*temp\n",
    "        \n",
    "orange=Orange(200,'orange')\n",
    "print(orange.mold)\n",
    "orange.rot(10,37)\n",
    "print(orange.mold)"
   ]
  },
  {
   "cell_type": "code",
   "execution_count": 21,
   "metadata": {},
   "outputs": [
    {
     "name": "stdout",
     "output_type": "stream",
     "text": [
      "200\n",
      "800\n"
     ]
    }
   ],
   "source": [
    "class Rectangle:\n",
    "    def __init__(self,w,l):\n",
    "        self.width=w\n",
    "        self.length=l\n",
    "        \n",
    "    def area(self):\n",
    "        return self.width*self.length\n",
    "    \n",
    "    def change_size(self,w,l):\n",
    "        self.width=w\n",
    "        self.length=l\n",
    "        \n",
    "rectangle=Rectangle(10,20)\n",
    "print(rectangle.area())\n",
    "rectangle.change_size(20,40)\n",
    "print(rectangle.area())"
   ]
  },
  {
   "cell_type": "code",
   "execution_count": null,
   "metadata": {},
   "outputs": [],
   "source": []
  }
 ],
 "metadata": {
  "kernelspec": {
   "display_name": "Python 3",
   "language": "python",
   "name": "python3"
  },
  "language_info": {
   "codemirror_mode": {
    "name": "ipython",
    "version": 3
   },
   "file_extension": ".py",
   "mimetype": "text/x-python",
   "name": "python",
   "nbconvert_exporter": "python",
   "pygments_lexer": "ipython3",
   "version": "3.8.3"
  }
 },
 "nbformat": 4,
 "nbformat_minor": 4
}
