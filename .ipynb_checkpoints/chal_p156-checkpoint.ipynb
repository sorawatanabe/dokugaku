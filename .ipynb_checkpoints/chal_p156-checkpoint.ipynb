{
 "cells": [
  {
   "cell_type": "code",
   "execution_count": 3,
   "metadata": {},
   "outputs": [
    {
     "name": "stdout",
     "output_type": "stream",
     "text": [
      "Created!\n",
      "<__main__.Apple object at 0x0000022330713940>\n"
     ]
    }
   ],
   "source": [
    "class Apple:\n",
    "    def __init__(self,s,g,b,p):\n",
    "        self.size=s\n",
    "        self.gram=g\n",
    "        self.brand=b\n",
    "        self.produced=p\n",
    "        print('Created!')\n",
    "        \n",
    "apple1=Apple(10,100,'富士','山梨')"
   ]
  },
  {
   "cell_type": "code",
   "execution_count": 23,
   "metadata": {},
   "outputs": [
    {
     "name": "stdout",
     "output_type": "stream",
     "text": [
      "314.1592653589793\n"
     ]
    }
   ],
   "source": [
    "import math\n",
    "\n",
    "class Circle:\n",
    "    def __init__(self,r):\n",
    "        self.riduculus=r\n",
    "    \n",
    "    def area(self):\n",
    "        return (self.riduculus)**2.0*math.pi\n",
    "    \n",
    "cir1=Circle(10)\n",
    "print(cir1.area())"
   ]
  },
  {
   "cell_type": "code",
   "execution_count": 26,
   "metadata": {},
   "outputs": [
    {
     "name": "stdout",
     "output_type": "stream",
     "text": [
      "Created!\n",
      "0.5\n"
     ]
    }
   ],
   "source": [
    "import math\n",
    "\n",
    "class Triangle:\n",
    "    def __init__(self,l1,l2,t):\n",
    "        self.length1=l1\n",
    "        self.length2=l2\n",
    "        self.theta=t\n",
    "        print('Created!')\n",
    "        \n",
    "    def area(self):\n",
    "        return (self.length1*self.length2*math.sin(self.theta*math.pi/180))/2.0\n",
    "    \n",
    "tri1=Triangle(1,1,90)\n",
    "print(tri1.area())\n",
    "        "
   ]
  },
  {
   "cell_type": "code",
   "execution_count": 27,
   "metadata": {},
   "outputs": [
    {
     "name": "stdout",
     "output_type": "stream",
     "text": [
      "Created!\n",
      "6\n"
     ]
    }
   ],
   "source": [
    "class Hexagon:\n",
    "    def __init__(self,l1,l2,l3,l4,l5,l6):\n",
    "        self.len1=l1\n",
    "        self.len2=l2\n",
    "        self.len3=l3\n",
    "        self.len4=l4\n",
    "        self.len5=l5\n",
    "        self.len6=l6\n",
    "        print(\"Created!\")\n",
    "        \n",
    "    def calculate_perimeter(self):\n",
    "        return self.len1+self.len2+self.len3+self.len4+self.len5+self.len6\n",
    "    \n",
    "hx=Hexagon(1,1,1,1,1,1)\n",
    "print(hx.calculate_perimeter())"
   ]
  },
  {
   "cell_type": "code",
   "execution_count": null,
   "metadata": {},
   "outputs": [],
   "source": []
  }
 ],
 "metadata": {
  "kernelspec": {
   "display_name": "Python 3",
   "language": "python",
   "name": "python3"
  },
  "language_info": {
   "codemirror_mode": {
    "name": "ipython",
    "version": 3
   },
   "file_extension": ".py",
   "mimetype": "text/x-python",
   "name": "python",
   "nbconvert_exporter": "python",
   "pygments_lexer": "ipython3",
   "version": "3.8.3"
  }
 },
 "nbformat": 4,
 "nbformat_minor": 4
}
