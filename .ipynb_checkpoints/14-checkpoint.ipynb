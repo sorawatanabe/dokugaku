{
 "cells": [
  {
   "cell_type": "code",
   "execution_count": 1,
   "metadata": {},
   "outputs": [
    {
     "name": "stdout",
     "output_type": "stream",
     "text": [
      "<class '__main__.Square'>\n"
     ]
    }
   ],
   "source": [
    "class Square:\n",
    "    pass\n",
    "\n",
    "print(Square)"
   ]
  },
  {
   "cell_type": "code",
   "execution_count": 2,
   "metadata": {},
   "outputs": [
    {
     "name": "stdout",
     "output_type": "stream",
     "text": [
      "<__main__.Lion object at 0x0000020FB1E2C9D0>\n"
     ]
    }
   ],
   "source": [
    "class Lion:\n",
    "    def __init__(self,name):\n",
    "        self.name=name\n",
    "        \n",
    "lion=Lion('Dilbert')\n",
    "print(lion)"
   ]
  },
  {
   "cell_type": "code",
   "execution_count": 3,
   "metadata": {},
   "outputs": [
    {
     "name": "stdout",
     "output_type": "stream",
     "text": [
      "King\n"
     ]
    }
   ],
   "source": [
    "class Lion:\n",
    "    def __init__(self,name):\n",
    "        self.name=name\n",
    "        \n",
    "    def __repr__(self):\n",
    "        return self.name\n",
    "\n",
    "lion=Lion('King')\n",
    "print(lion)"
   ]
  },
  {
   "cell_type": "code",
   "execution_count": 4,
   "metadata": {},
   "outputs": [
    {
     "name": "stdout",
     "output_type": "stream",
     "text": [
      "10\n"
     ]
    }
   ],
   "source": [
    "#__add__メソッド\n",
    "class AlwaysPositive:\n",
    "    def __init__(self,number):\n",
    "        self.n=number\n",
    "\n",
    "    def __add__(self,other):\n",
    "        return abs(self.n+other.n)\n",
    "\n",
    "x=AlwaysPositive(-20)\n",
    "y=AlwaysPositive(10)\n",
    "print(x+y)"
   ]
  },
  {
   "cell_type": "code",
   "execution_count": 5,
   "metadata": {},
   "outputs": [
    {
     "name": "stdout",
     "output_type": "stream",
     "text": [
      "True\n",
      "False\n"
     ]
    }
   ],
   "source": [
    "class Person:\n",
    "    def __init__(self):\n",
    "        self.name='Bob'\n",
    "        \n",
    "bob=Person()\n",
    "same_bob=bob\n",
    "print(bob is same_bob)\n",
    "\n",
    "another_bob=Person()\n",
    "print(bob is another_bob)"
   ]
  },
  {
   "cell_type": "code",
   "execution_count": 6,
   "metadata": {},
   "outputs": [
    {
     "name": "stdout",
     "output_type": "stream",
     "text": [
      "xはNoneじゃない\n",
      "xはNone\n"
     ]
    }
   ],
   "source": [
    "x=10\n",
    "if x is None:\n",
    "    print('xはNone:(')\n",
    "else:\n",
    "    print('xはNoneじゃない')\n",
    "    \n",
    "x=None\n",
    "if x is None:\n",
    "    print('xはNone')\n",
    "else:\n",
    "    print('xはNoneじゃない:(')"
   ]
  },
  {
   "cell_type": "code",
   "execution_count": null,
   "metadata": {},
   "outputs": [],
   "source": []
  }
 ],
 "metadata": {
  "kernelspec": {
   "display_name": "Python 3",
   "language": "python",
   "name": "python3"
  },
  "language_info": {
   "codemirror_mode": {
    "name": "ipython",
    "version": 3
   },
   "file_extension": ".py",
   "mimetype": "text/x-python",
   "name": "python",
   "nbconvert_exporter": "python",
   "pygments_lexer": "ipython3",
   "version": "3.8.3"
  }
 },
 "nbformat": 4,
 "nbformat_minor": 4
}
