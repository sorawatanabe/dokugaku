{
 "cells": [
  {
   "cell_type": "code",
   "execution_count": 1,
   "metadata": {},
   "outputs": [
    {
     "data": {
      "text/plain": [
       "'HELLO'"
      ]
     },
     "execution_count": 1,
     "metadata": {},
     "output_type": "execute_result"
    }
   ],
   "source": [
    "'Hello'.upper()"
   ]
  },
  {
   "cell_type": "code",
   "execution_count": 2,
   "metadata": {},
   "outputs": [
    {
     "data": {
      "text/plain": [
       "'Hell@'"
      ]
     },
     "execution_count": 2,
     "metadata": {},
     "output_type": "execute_result"
    }
   ],
   "source": [
    "'Hello'.replace('o','@')"
   ]
  },
  {
   "cell_type": "code",
   "execution_count": 3,
   "metadata": {},
   "outputs": [
    {
     "data": {
      "text/plain": [
       "[]"
      ]
     },
     "execution_count": 3,
     "metadata": {},
     "output_type": "execute_result"
    }
   ],
   "source": [
    "fruit=list()\n",
    "fruit"
   ]
  },
  {
   "cell_type": "code",
   "execution_count": 5,
   "metadata": {},
   "outputs": [
    {
     "data": {
      "text/plain": [
       "[]"
      ]
     },
     "execution_count": 5,
     "metadata": {},
     "output_type": "execute_result"
    }
   ],
   "source": [
    "fruit=[]\n",
    "fruit"
   ]
  },
  {
   "cell_type": "code",
   "execution_count": 9,
   "metadata": {},
   "outputs": [
    {
     "data": {
      "text/plain": [
       "['Apple', 'Orange', 'Pear']"
      ]
     },
     "execution_count": 9,
     "metadata": {},
     "output_type": "execute_result"
    }
   ],
   "source": [
    "fruit=['Apple','Orange','Pear']\n",
    "fruit"
   ]
  },
  {
   "cell_type": "code",
   "execution_count": 10,
   "metadata": {},
   "outputs": [
    {
     "data": {
      "text/plain": [
       "['Apple', 'Orange', 'Pear', 'Banana', 'Peach']"
      ]
     },
     "execution_count": 10,
     "metadata": {},
     "output_type": "execute_result"
    }
   ],
   "source": [
    "fruit=['Apple','Orange','Pear']\n",
    "fruit.append('Banana')\n",
    "fruit.append('Peach')\n",
    "fruit"
   ]
  },
  {
   "cell_type": "code",
   "execution_count": 11,
   "metadata": {},
   "outputs": [
    {
     "data": {
      "text/plain": [
       "[True, 100, 1.1, 'Hello']"
      ]
     },
     "execution_count": 11,
     "metadata": {},
     "output_type": "execute_result"
    }
   ],
   "source": [
    "random=[]\n",
    "random.append(True)\n",
    "random.append(100)\n",
    "random.append(1.1)\n",
    "random.append('Hello')\n",
    "random"
   ]
  },
  {
   "cell_type": "code",
   "execution_count": 13,
   "metadata": {},
   "outputs": [
    {
     "data": {
      "text/plain": [
       "'Orange'"
      ]
     },
     "execution_count": 13,
     "metadata": {},
     "output_type": "execute_result"
    }
   ],
   "source": [
    "fruit=['Apple','Orange','Pear']\n",
    "fruit[1]"
   ]
  },
  {
   "cell_type": "code",
   "execution_count": 15,
   "metadata": {},
   "outputs": [
    {
     "data": {
      "text/plain": [
       "['blue', 'green', 'red']"
      ]
     },
     "execution_count": 15,
     "metadata": {},
     "output_type": "execute_result"
    }
   ],
   "source": [
    "colors=['blue','green','yellow']\n",
    "colors[2]='red'\n",
    "colors"
   ]
  },
  {
   "cell_type": "code",
   "execution_count": 16,
   "metadata": {},
   "outputs": [
    {
     "data": {
      "text/plain": [
       "'yellow'"
      ]
     },
     "execution_count": 16,
     "metadata": {},
     "output_type": "execute_result"
    }
   ],
   "source": [
    "colors=['blue','green','yellow']\n",
    "item=colors.pop()\n",
    "item"
   ]
  },
  {
   "cell_type": "code",
   "execution_count": 18,
   "metadata": {},
   "outputs": [
    {
     "data": {
      "text/plain": [
       "['blue', 'green', 'yellow', 'gold', 'silber', 'brown']"
      ]
     },
     "execution_count": 18,
     "metadata": {},
     "output_type": "execute_result"
    }
   ],
   "source": [
    "colors1=['blue','green','yellow']\n",
    "colors2=['gold','silber','brown']\n",
    "colors1+colors2"
   ]
  },
  {
   "cell_type": "code",
   "execution_count": 21,
   "metadata": {},
   "outputs": [
    {
     "data": {
      "text/plain": [
       "False"
      ]
     },
     "execution_count": 21,
     "metadata": {},
     "output_type": "execute_result"
    }
   ],
   "source": [
    "colors1=['blue','green','yellow']\n",
    "colors2=['gold','silber','brown']\n",
    "'greeeen' in colors1+colors"
   ]
  },
  {
   "cell_type": "code",
   "execution_count": 22,
   "metadata": {},
   "outputs": [
    {
     "data": {
      "text/plain": [
       "True"
      ]
     },
     "execution_count": 22,
     "metadata": {},
     "output_type": "execute_result"
    }
   ],
   "source": [
    "colors1=['blue','green','yellow']\n",
    "colors2=['gold','silber','brown']\n",
    "'greeeen' not in colors1+colors"
   ]
  },
  {
   "cell_type": "code",
   "execution_count": 23,
   "metadata": {},
   "outputs": [
    {
     "data": {
      "text/plain": [
       "3"
      ]
     },
     "execution_count": 23,
     "metadata": {},
     "output_type": "execute_result"
    }
   ],
   "source": [
    "len(colors1)"
   ]
  },
  {
   "cell_type": "code",
   "execution_count": 24,
   "metadata": {},
   "outputs": [
    {
     "data": {
      "text/plain": [
       "6"
      ]
     },
     "execution_count": 24,
     "metadata": {},
     "output_type": "execute_result"
    }
   ],
   "source": [
    "len(colors1+colors2)"
   ]
  },
  {
   "cell_type": "code",
   "execution_count": 27,
   "metadata": {},
   "outputs": [
    {
     "name": "stdout",
     "output_type": "stream",
     "text": [
      "何色でしょう？(入力してください):green\n",
      "あたり！\n"
     ]
    }
   ],
   "source": [
    "colors=['purple','orange','green']\n",
    "guess=input('何色でしょう？(入力してください):')\n",
    "if guess in colors:\n",
    "    print('あたり！')\n",
    "else:\n",
    "    print('はずれ')"
   ]
  },
  {
   "cell_type": "code",
   "execution_count": 28,
   "metadata": {},
   "outputs": [
    {
     "data": {
      "text/plain": [
       "()"
      ]
     },
     "execution_count": 28,
     "metadata": {},
     "output_type": "execute_result"
    }
   ],
   "source": [
    "my_tuple=tuple()\n",
    "my_tuple"
   ]
  },
  {
   "cell_type": "code",
   "execution_count": 29,
   "metadata": {},
   "outputs": [],
   "source": [
    "my_tuple=()"
   ]
  },
  {
   "cell_type": "code",
   "execution_count": 30,
   "metadata": {},
   "outputs": [
    {
     "data": {
      "text/plain": [
       "('M.Jackson', 1958, True)"
      ]
     },
     "execution_count": 30,
     "metadata": {},
     "output_type": "execute_result"
    }
   ],
   "source": [
    "rndm=('M.Jackson',1958,True)\n",
    "rndm"
   ]
  },
  {
   "cell_type": "code",
   "execution_count": 35,
   "metadata": {},
   "outputs": [
    {
     "ename": "TypeError",
     "evalue": "'tuple' object does not support item assignment",
     "output_type": "error",
     "traceback": [
      "\u001b[1;31m---------------------------------------------------------------------------\u001b[0m",
      "\u001b[1;31mTypeError\u001b[0m                                 Traceback (most recent call last)",
      "\u001b[1;32m<ipython-input-35-aba9b0ccb27b>\u001b[0m in \u001b[0;36m<module>\u001b[1;34m\u001b[0m\n\u001b[0;32m      1\u001b[0m \u001b[0mdys\u001b[0m\u001b[1;33m=\u001b[0m\u001b[1;33m(\u001b[0m\u001b[1;34m'1984'\u001b[0m\u001b[1;33m,\u001b[0m\u001b[1;34m'Brave New World'\u001b[0m\u001b[1;33m,\u001b[0m\u001b[1;34m'Fahrenheit 451'\u001b[0m\u001b[1;33m)\u001b[0m\u001b[1;33m\u001b[0m\u001b[1;33m\u001b[0m\u001b[0m\n\u001b[1;32m----> 2\u001b[1;33m \u001b[0mdys\u001b[0m\u001b[1;33m[\u001b[0m\u001b[1;36m1\u001b[0m\u001b[1;33m]\u001b[0m\u001b[1;33m=\u001b[0m\u001b[1;34m\"Handmaid's Tale\"\u001b[0m\u001b[1;33m\u001b[0m\u001b[1;33m\u001b[0m\u001b[0m\n\u001b[0m",
      "\u001b[1;31mTypeError\u001b[0m: 'tuple' object does not support item assignment"
     ]
    }
   ],
   "source": [
    "dys=('1984','Brave New World','Fahrenheit 451')\n",
    "dys[1]=\"Handmaid's Tale\""
   ]
  },
  {
   "cell_type": "code",
   "execution_count": 37,
   "metadata": {},
   "outputs": [
    {
     "data": {
      "text/plain": [
       "'Fahrenheit 451'"
      ]
     },
     "execution_count": 37,
     "metadata": {},
     "output_type": "execute_result"
    }
   ],
   "source": [
    "dys=('1984','Brave New World','Fahrenheit 451')\n",
    "dys[2]"
   ]
  },
  {
   "cell_type": "code",
   "execution_count": 38,
   "metadata": {},
   "outputs": [
    {
     "data": {
      "text/plain": [
       "True"
      ]
     },
     "execution_count": 38,
     "metadata": {},
     "output_type": "execute_result"
    }
   ],
   "source": [
    "dys=('1984','Brave New World','Fahrenheit 451')\n",
    "'1982' not in dys "
   ]
  },
  {
   "cell_type": "code",
   "execution_count": 39,
   "metadata": {},
   "outputs": [
    {
     "data": {
      "text/plain": [
       "{'Apple': 'Red', 'Banana': 'Yellow'}"
      ]
     },
     "execution_count": 39,
     "metadata": {},
     "output_type": "execute_result"
    }
   ],
   "source": [
    "fruits={'Apple':'Red','Banana':'Yellow'}\n",
    "fruits"
   ]
  },
  {
   "cell_type": "code",
   "execution_count": 41,
   "metadata": {},
   "outputs": [
    {
     "data": {
      "text/plain": [
       "1776"
      ]
     },
     "execution_count": 41,
     "metadata": {},
     "output_type": "execute_result"
    }
   ],
   "source": [
    "facts=dict()\n",
    "#add value\n",
    "facts[\"code\"]='fun'\n",
    "#keyで参照\n",
    "facts['code']\n",
    "#add value\n",
    "facts['Bill']='Gates'\n",
    "facts['Bill']\n",
    "\n",
    "#add value\n",
    "facts['founded']=1776\n",
    "#keyで参照\n",
    "facts['founded']"
   ]
  },
  {
   "cell_type": "code",
   "execution_count": 42,
   "metadata": {},
   "outputs": [
    {
     "data": {
      "text/plain": [
       "True"
      ]
     },
     "execution_count": 42,
     "metadata": {},
     "output_type": "execute_result"
    }
   ],
   "source": [
    "bill={'Bill Gates':'charitable'}\n",
    "'Bill Gates' in bill"
   ]
  },
  {
   "cell_type": "code",
   "execution_count": 43,
   "metadata": {},
   "outputs": [
    {
     "data": {
      "text/plain": [
       "False"
      ]
     },
     "execution_count": 43,
     "metadata": {},
     "output_type": "execute_result"
    }
   ],
   "source": [
    "bill={'Bill Gates':'charitable'}\n",
    "'charitable' in bill"
   ]
  },
  {
   "cell_type": "code",
   "execution_count": 45,
   "metadata": {},
   "outputs": [
    {
     "data": {
      "text/plain": [
       "{'Dracula': 'Stoker', '1984': 'Orwell'}"
      ]
     },
     "execution_count": 45,
     "metadata": {},
     "output_type": "execute_result"
    }
   ],
   "source": [
    "books={'Dracula':'Stoker',\n",
    "       '1984':'Orwell',\n",
    "       'The Trial':'Kafka'}\n",
    "\n",
    "del books['The Trial']\n",
    "\n",
    "books"
   ]
  },
  {
   "cell_type": "code",
   "execution_count": 46,
   "metadata": {},
   "outputs": [
    {
     "name": "stdout",
     "output_type": "stream",
     "text": [
      "数字を入力してください:3\n",
      "me\n"
     ]
    }
   ],
   "source": [
    "songs={'1':'fun',\n",
    "      '2':'blue',\n",
    "      '3':'me',\n",
    "      '4':'floor',\n",
    "      '5':'live'}\n",
    "n =input('数字を入力してください:')\n",
    "if n in songs:\n",
    "    song=songs[n]\n",
    "    print(song)\n",
    "else:\n",
    "    print('見つかりません')\n"
   ]
  },
  {
   "cell_type": "code",
   "execution_count": 48,
   "metadata": {},
   "outputs": [
    {
     "name": "stdout",
     "output_type": "stream",
     "text": [
      "[['カニエ・ウェスト', 'ジェイ・z', 'エミネム', 'ナズ'], ['ボブ・ディラン', 'ザ・ビートルズ', 'レッド・ツェッペリン'], ['ゼッズ・デッド', 'ティエスト']]\n"
     ]
    }
   ],
   "source": [
    "lists=[]\n",
    "\n",
    "rap=['カニエ・ウェスト','ジェイ・z','エミネム','ナズ']\n",
    "rock=['ボブ・ディラン','ザ・ビートルズ','レッド・ツェッペリン']\n",
    "djs=['ゼッズ・デッド','ティエスト']\n",
    "\n",
    "lists.append(rap)\n",
    "lists.append(rock)\n",
    "lists.append(djs)\n",
    "\n",
    "print(lists)"
   ]
  },
  {
   "cell_type": "code",
   "execution_count": 49,
   "metadata": {},
   "outputs": [
    {
     "name": "stdout",
     "output_type": "stream",
     "text": [
      "['カニエ・ウェスト', 'ジェイ・z', 'エミネム', 'ナズ']\n"
     ]
    }
   ],
   "source": [
    "rap=lists[0]\n",
    "print(rap)"
   ]
  },
  {
   "cell_type": "code",
   "execution_count": 50,
   "metadata": {},
   "outputs": [
    {
     "name": "stdout",
     "output_type": "stream",
     "text": [
      "['カニエ・ウェスト', 'ジェイ・z', 'エミネム', 'ナズ', 'ケンドリック・ラマ―']\n",
      "[['カニエ・ウェスト', 'ジェイ・z', 'エミネム', 'ナズ', 'ケンドリック・ラマ―'], ['ボブ・ディラン', 'ザ・ビートルズ', 'レッド・ツェッペリン'], ['ゼッズ・デッド', 'ティエスト']]\n"
     ]
    }
   ],
   "source": [
    "rap=lists[0]\n",
    "rap.append('ケンドリック・ラマ―')\n",
    "print(rap)\n",
    "print(lists)"
   ]
  },
  {
   "cell_type": "code",
   "execution_count": 51,
   "metadata": {},
   "outputs": [
    {
     "ename": "SyntaxError",
     "evalue": "invalid syntax (<ipython-input-51-555511e479b9>, line 1)",
     "output_type": "error",
     "traceback": [
      "\u001b[1;36m  File \u001b[1;32m\"<ipython-input-51-555511e479b9>\"\u001b[1;36m, line \u001b[1;32m1\u001b[0m\n\u001b[1;33m    rock=['1':'ボブ・ディラン','2':'ザ・ビートルズ','3':'レッド・ツェッペリン']\u001b[0m\n\u001b[1;37m             ^\u001b[0m\n\u001b[1;31mSyntaxError\u001b[0m\u001b[1;31m:\u001b[0m invalid syntax\n"
     ]
    }
   ],
   "source": [
    "rock=['1':'ボブ・ディラン','2':'ザ・ビートルズ','3':'レッド・ツェッペリン']"
   ]
  },
  {
   "cell_type": "code",
   "execution_count": 52,
   "metadata": {},
   "outputs": [
    {
     "name": "stdout",
     "output_type": "stream",
     "text": [
      "(['Edgar Allan poe', 'Charles Dickens'], ['Hemingway', 'Fitzgerald', 'Orwell'])\n"
     ]
    }
   ],
   "source": [
    "eights=['Edgar Allan poe','Charles Dickens']\n",
    "nines=['Hemingway','Fitzgerald','Orwell']\n",
    "\n",
    "authors=(eights,nines)\n",
    "print(authors)"
   ]
  },
  {
   "cell_type": "code",
   "execution_count": 53,
   "metadata": {},
   "outputs": [
    {
     "name": "stdout",
     "output_type": "stream",
     "text": [
      "[{'Hemingway': '7.21.1899', 'Fitzgerald': '9.24.2896'}]\n",
      "({'Hemingway': '7.21.1899', 'Fitzgerald': '9.24.2896'},)\n"
     ]
    }
   ],
   "source": [
    "bday={'Hemingway':'7.21.1899',\n",
    "     'Fitzgerald':'9.24.2896'}\n",
    "my_list=[bday]\n",
    "print(my_list)\n",
    "my_tuple=(bday,)\n",
    "print(my_tuple)"
   ]
  },
  {
   "cell_type": "code",
   "execution_count": 54,
   "metadata": {},
   "outputs": [],
   "source": [
    "ny={\n",
    "    '座標':(40.7128,74.0059),\n",
    "    'セレブ':['ウッディ・アレン','ジェイ・Z','ケヴィン・ベーコン',\n",
    "          ],\n",
    "    '事実':{\n",
    "        '州':'ニューヨーク',\n",
    "        '国':'アメリカ',\n",
    "    }\n",
    "}"
   ]
  },
  {
   "cell_type": "code",
   "execution_count": 55,
   "metadata": {},
   "outputs": [
    {
     "name": "stdout",
     "output_type": "stream",
     "text": [
      "{'座標': (40.7128, 74.0059), 'セレブ': ['ウッディ・アレン', 'ジェイ・Z', 'ケヴィン・ベーコン'], '事実': {'州': 'ニューヨーク', '国': 'アメリカ'}}\n"
     ]
    }
   ],
   "source": [
    "print(ny)"
   ]
  },
  {
   "cell_type": "code",
   "execution_count": null,
   "metadata": {},
   "outputs": [],
   "source": []
  }
 ],
 "metadata": {
  "kernelspec": {
   "display_name": "Python 3",
   "language": "python",
   "name": "python3"
  },
  "language_info": {
   "codemirror_mode": {
    "name": "ipython",
    "version": 3
   },
   "file_extension": ".py",
   "mimetype": "text/x-python",
   "name": "python",
   "nbconvert_exporter": "python",
   "pygments_lexer": "ipython3",
   "version": "3.8.3"
  }
 },
 "nbformat": 4,
 "nbformat_minor": 4
}
