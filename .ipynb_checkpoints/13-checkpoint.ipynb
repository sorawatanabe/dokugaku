{
 "cells": [
  {
   "cell_type": "code",
   "execution_count": 1,
   "metadata": {},
   "outputs": [],
   "source": [
    "class Rectangle:\n",
    "    def __init__(self,w,l):\n",
    "        self.width=w\n",
    "        self.len=l\n",
    "        \n",
    "    def area(self):\n",
    "        return self.width*self.len"
   ]
  },
  {
   "cell_type": "code",
   "execution_count": 3,
   "metadata": {},
   "outputs": [
    {
     "name": "stdout",
     "output_type": "stream",
     "text": [
      "[100, 2, 3, 4, 5]\n",
      "[100, 2, 3, 4, 5]\n"
     ]
    }
   ],
   "source": [
    "class Data:\n",
    "    def __init__(self):\n",
    "        self.nums=[1,2,3,4,5]\n",
    "        \n",
    "    def change_data(self,index,n):\n",
    "        self.nums[index]=n\n",
    "        \n",
    "data_one=Data()\n",
    "data_one.nums[0]=100\n",
    "print(data_one.nums)\n",
    "\n",
    "data_two=Data()\n",
    "data_two.change_data(0,100)\n",
    "print(data_two.nums)"
   ]
  },
  {
   "cell_type": "code",
   "execution_count": 4,
   "metadata": {},
   "outputs": [],
   "source": [
    "class PublicPriveteExample:\n",
    "    def __init__(self):\n",
    "        self.public='safe'\n",
    "        self._unsafe='unsafe'\n",
    "        \n",
    "    def public_method(self):\n",
    "        #clientが使っても良い\n",
    "        pass #pass文は、文が必須な構文で何もしない場合に使う\n",
    "    \n",
    "    def _unsafe_method(self):\n",
    "        #clientは使うべきではない\n",
    "        pass #pass文は、文が必須な構文で何もしない場合に使う\n",
    "    \n",
    "    "
   ]
  },
  {
   "cell_type": "code",
   "execution_count": 5,
   "metadata": {},
   "outputs": [
    {
     "name": "stdout",
     "output_type": "stream",
     "text": [
      "Hello,World!\n",
      "200\n",
      "200.1\n"
     ]
    }
   ],
   "source": [
    "print('Hello,World!')\n",
    "print(200)\n",
    "print(200.1)"
   ]
  },
  {
   "cell_type": "code",
   "execution_count": 6,
   "metadata": {},
   "outputs": [
    {
     "data": {
      "text/plain": [
       "float"
      ]
     },
     "execution_count": 6,
     "metadata": {},
     "output_type": "execute_result"
    }
   ],
   "source": [
    "type('Hello World!')\n",
    "type(100)\n",
    "type(100.0)"
   ]
  },
  {
   "cell_type": "code",
   "execution_count": 10,
   "metadata": {},
   "outputs": [
    {
     "name": "stdout",
     "output_type": "stream",
     "text": [
      "400\n"
     ]
    }
   ],
   "source": [
    "class Shape:\n",
    "    def __init__(self,w,l):\n",
    "        self.width=w\n",
    "        self.len=l\n",
    "        \n",
    "    def print_size(self):\n",
    "        print('{}by{}'.format(self.width,self.len))\n",
    "        \n",
    "class Square(Shape):\n",
    "    def area(self):\n",
    "        return self.width*self.len\n",
    "        \n",
    "a_square=Square(20,20)\n",
    "print(a_square.area())"
   ]
  },
  {
   "cell_type": "code",
   "execution_count": 11,
   "metadata": {},
   "outputs": [
    {
     "name": "stdout",
     "output_type": "stream",
     "text": [
      "I am  20 by 20\n"
     ]
    }
   ],
   "source": [
    "#メソッドオーバーライド\n",
    "class Shape:\n",
    "    def __init__(self,w,l):\n",
    "        self.width=w\n",
    "        self.len=l\n",
    "        \n",
    "    def print_size(self):\n",
    "        print('{}by{}'.format(self.width,self.len))\n",
    "        \n",
    "class Square(Shape):\n",
    "    def area(self):\n",
    "        return self.width*self.len\n",
    "        \n",
    "    def print_size(self):\n",
    "        print('I am  {} by {}'.format(self.width,self.len))\n",
    "        \n",
    "a_square=Square(20,20)\n",
    "a_square.print_size()"
   ]
  },
  {
   "cell_type": "code",
   "execution_count": 12,
   "metadata": {},
   "outputs": [
    {
     "name": "stdout",
     "output_type": "stream",
     "text": [
      "Mick Jagger\n"
     ]
    }
   ],
   "source": [
    "class Dog:\n",
    "    def __init__(self,name,breed,owner):\n",
    "        self.name=name\n",
    "        self.breed=breed\n",
    "        self.owner=owner\n",
    "        \n",
    "class Person:\n",
    "    def __init__(self,name):\n",
    "        self.name=name\n",
    "        \n",
    "mick=Person('Mick Jagger')\n",
    "stan=Dog('Stanley','Bulldog',mick)\n",
    "print(stan.owner.name)"
   ]
  },
  {
   "cell_type": "code",
   "execution_count": null,
   "metadata": {},
   "outputs": [],
   "source": []
  }
 ],
 "metadata": {
  "kernelspec": {
   "display_name": "Python 3",
   "language": "python",
   "name": "python3"
  },
  "language_info": {
   "codemirror_mode": {
    "name": "ipython",
    "version": 3
   },
   "file_extension": ".py",
   "mimetype": "text/x-python",
   "name": "python",
   "nbconvert_exporter": "python",
   "pygments_lexer": "ipython3",
   "version": "3.8.3"
  }
 },
 "nbformat": 4,
 "nbformat_minor": 4
}
