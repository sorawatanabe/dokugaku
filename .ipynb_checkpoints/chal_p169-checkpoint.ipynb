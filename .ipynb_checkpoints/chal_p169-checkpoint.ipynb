{
 "cells": [
  {
   "cell_type": "code",
   "execution_count": 9,
   "metadata": {},
   "outputs": [],
   "source": [
    "class Rectangle:\n",
    "    def __init__(self,l1,l2,l3):\n",
    "        self.len1=l1\n",
    "        self.len2=l2\n",
    "        self.len3=l3\n",
    "        \n",
    "    def calculate_perimeter(self):\n",
    "        return self.len1+self.len2+self.len3\n",
    "    \n",
    "class Square:\n",
    "    def __init__(self,l1,l2):\n",
    "        self.len1=l1\n",
    "        self.len2=l2\n",
    "        \n",
    "    def calculate_perimeter(self):\n",
    "        return self.len1+self.len2\n",
    "    \n",
    "    def change_size(self,d1,d2):\n",
    "        self.len1-=d1\n",
    "        self.len2-=d2\n",
    "        return self.len1,self.len2\n",
    "            \n",
    "        "
   ]
  },
  {
   "cell_type": "code",
   "execution_count": 10,
   "metadata": {},
   "outputs": [
    {
     "name": "stdout",
     "output_type": "stream",
     "text": [
      "(5, 15)\n"
     ]
    }
   ],
   "source": [
    "sq1=Square(10,10)\n",
    "print(sq1.change_size(5,-5))"
   ]
  },
  {
   "cell_type": "code",
   "execution_count": null,
   "metadata": {},
   "outputs": [],
   "source": []
  }
 ],
 "metadata": {
  "kernelspec": {
   "display_name": "Python 3",
   "language": "python",
   "name": "python3"
  },
  "language_info": {
   "codemirror_mode": {
    "name": "ipython",
    "version": 3
   },
   "file_extension": ".py",
   "mimetype": "text/x-python",
   "name": "python",
   "nbconvert_exporter": "python",
   "pygments_lexer": "ipython3",
   "version": "3.8.3"
  }
 },
 "nbformat": 4,
 "nbformat_minor": 4
}
