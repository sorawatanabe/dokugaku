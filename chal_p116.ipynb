{
 "cells": [
  {
   "cell_type": "code",
   "execution_count": 2,
   "metadata": {},
   "outputs": [
    {
     "name": "stdout",
     "output_type": "stream",
     "text": [
      "ウォーキングデッド\n",
      "アントラ―ジュ\n",
      "ザ・ソプラノズ\n",
      "ヴァンパイア・リイアリーズ\n"
     ]
    }
   ],
   "source": [
    "list=['ウォーキングデッド','アントラ―ジュ','ザ・ソプラノズ','ヴァンパイア・リイアリーズ']\n",
    "for i in list:\n",
    "    print(i)\n",
    "    "
   ]
  },
  {
   "cell_type": "code",
   "execution_count": 3,
   "metadata": {},
   "outputs": [
    {
     "name": "stdout",
     "output_type": "stream",
     "text": [
      "25\n",
      "26\n",
      "27\n",
      "28\n",
      "29\n",
      "30\n",
      "31\n",
      "32\n",
      "33\n",
      "34\n",
      "35\n",
      "36\n",
      "37\n",
      "38\n",
      "39\n",
      "40\n",
      "41\n",
      "42\n",
      "43\n",
      "44\n",
      "45\n",
      "46\n",
      "47\n",
      "48\n",
      "49\n",
      "50\n"
     ]
    }
   ],
   "source": [
    "for i in range(25,51):\n",
    "    print(i)"
   ]
  },
  {
   "cell_type": "code",
   "execution_count": 5,
   "metadata": {},
   "outputs": [
    {
     "name": "stdout",
     "output_type": "stream",
     "text": [
      "ウォーキングデッド\n",
      "0\n",
      "アントラ―ジュ\n",
      "1\n",
      "ザ・ソプラノズ\n",
      "2\n",
      "ヴァンパイア・リイアリーズ\n",
      "3\n"
     ]
    }
   ],
   "source": [
    "list=['ウォーキングデッド','アントラ―ジュ','ザ・ソプラノズ','ヴァンパイア・リイアリーズ']\n",
    "for i in list:\n",
    "    print(i)\n",
    "    print(list.index(i))\n",
    "    "
   ]
  },
  {
   "cell_type": "code",
   "execution_count": 45,
   "metadata": {},
   "outputs": [
    {
     "name": "stdout",
     "output_type": "stream",
     "text": [
      "What is 2**10\n",
      "=3\n",
      "Uncorrect, Don't worry.\n",
      "=3\n",
      "Uncorrect, Don't worry.\n",
      "=1\n",
      "Uncorrect, Don't worry.\n",
      "=30002\n",
      "Uncorrect, Don't worry.\n",
      "=2000\n",
      "Uncorrect, Don't worry.\n",
      "=a\n",
      "Type figurre!!!!\n",
      "=sora\n",
      "Type figurre!!!!\n",
      "=2\n",
      "Uncorrect, Don't worry.\n",
      "=2024\n",
      "Correct!\n"
     ]
    }
   ],
   "source": [
    "print('What is 2**10')\n",
    "i = 0\n",
    "while True:\n",
    "    try:\n",
    "        n =input(\"=\")\n",
    "        n = int(n)\n",
    "        if n==2024:\n",
    "            print('Correct!')\n",
    "            break\n",
    "        print('Uncorrect, Don\\'t worry.')\n",
    "    except ValueError:\n",
    "        if n== 'stop':\n",
    "            break\n",
    "        print('Type figurre!!!!')"
   ]
  },
  {
   "cell_type": "code",
   "execution_count": 46,
   "metadata": {},
   "outputs": [
    {
     "name": "stdout",
     "output_type": "stream",
     "text": [
      "72\n",
      "8\n",
      "264\n",
      "664\n",
      "171\n",
      "19\n",
      "627\n",
      "1577\n",
      "1332\n",
      "148\n",
      "4884\n",
      "12284\n",
      "36\n",
      "4\n",
      "132\n",
      "332\n"
     ]
    }
   ],
   "source": [
    "list_1=[8,19,148,4]\n",
    "list_2=[9,1,33,83]\n",
    "for i in list_1:\n",
    "    for j in list_2:\n",
    "        print(i*j)\n",
    "        "
   ]
  },
  {
   "cell_type": "code",
   "execution_count": null,
   "metadata": {},
   "outputs": [],
   "source": []
  }
 ],
 "metadata": {
  "kernelspec": {
   "display_name": "Python 3",
   "language": "python",
   "name": "python3"
  },
  "language_info": {
   "codemirror_mode": {
    "name": "ipython",
    "version": 3
   },
   "file_extension": ".py",
   "mimetype": "text/x-python",
   "name": "python",
   "nbconvert_exporter": "python",
   "pygments_lexer": "ipython3",
   "version": "3.8.3"
  }
 },
 "nbformat": 4,
 "nbformat_minor": 4
}
