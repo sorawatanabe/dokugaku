{
 "cells": [
  {
   "cell_type": "code",
   "execution_count": 11,
   "metadata": {},
   "outputs": [],
   "source": [
    "class Rectangle:\n",
    "    def __init__(self,l1,l2,l3):\n",
    "        self.len1=l1\n",
    "        self.len2=l2\n",
    "        self.len3=l3\n",
    "        \n",
    "    def calculate_perimeter(self):\n",
    "        return self.len1+self.len2+self.len3\n",
    "    \n",
    "class Square:\n",
    "    def __init__(self,l1,l2):\n",
    "        self.len1=l1\n",
    "        self.len2=l2\n",
    "        \n",
    "    def calculate_perimeter(self):\n",
    "        return self.len1+self.len2\n",
    "    \n",
    "    def change_size(self,d1,d2):\n",
    "        self.len1-=d1\n",
    "        self.len2-=d2\n",
    "        return self.len1,self.len2\n",
    "    \n",
    "    \n",
    "class Shape(Square,Rectangle):\n",
    "    def what_am_i(self):\n",
    "        print('I am a shape')\n",
    "        "
   ]
  },
  {
   "cell_type": "code",
   "execution_count": 12,
   "metadata": {},
   "outputs": [
    {
     "name": "stdout",
     "output_type": "stream",
     "text": [
      "(5, 15)\n"
     ]
    }
   ],
   "source": [
    "sq1=Square(10,10)\n",
    "print(sq1.change_size(5,-5))"
   ]
  },
  {
   "cell_type": "code",
   "execution_count": 14,
   "metadata": {},
   "outputs": [
    {
     "name": "stdout",
     "output_type": "stream",
     "text": [
      "I am a shape\n"
     ]
    }
   ],
   "source": [
    "sq1=Shape(10,10)\n",
    "sq1.what_am_i()"
   ]
  },
  {
   "cell_type": "code",
   "execution_count": 21,
   "metadata": {},
   "outputs": [],
   "source": [
    "class Horse:\n",
    "    def __init__(self,name,years,owner):\n",
    "        self.name=name\n",
    "        self.years=years\n",
    "        self.owner=owner\n",
    "        print('Created!')\n",
    "        \n",
    "class Rider:\n",
    "    def __init__(self,name,years):\n",
    "        self.name =name\n",
    "        self.years =years\n",
    "\n",
    "        "
   ]
  },
  {
   "cell_type": "code",
   "execution_count": 22,
   "metadata": {},
   "outputs": [
    {
     "name": "stdout",
     "output_type": "stream",
     "text": [
      "Created!\n",
      "45\n"
     ]
    }
   ],
   "source": [
    "Mike=Rider('Mike',45)\n",
    "King=Horse('King',7,Mike)\n",
    "print(King.owner.years)"
   ]
  },
  {
   "cell_type": "code",
   "execution_count": null,
   "metadata": {},
   "outputs": [],
   "source": []
  }
 ],
 "metadata": {
  "kernelspec": {
   "display_name": "Python 3",
   "language": "python",
   "name": "python3"
  },
  "language_info": {
   "codemirror_mode": {
    "name": "ipython",
    "version": 3
   },
   "file_extension": ".py",
   "mimetype": "text/x-python",
   "name": "python",
   "nbconvert_exporter": "python",
   "pygments_lexer": "ipython3",
   "version": "3.8.3"
  }
 },
 "nbformat": 4,
 "nbformat_minor": 4
}
