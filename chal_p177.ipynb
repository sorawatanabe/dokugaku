{
 "cells": [
  {
   "cell_type": "code",
   "execution_count": 11,
   "metadata": {},
   "outputs": [],
   "source": [
    "class Square:\n",
    "    square_list=[]\n",
    "    def __init__(self,l1,l2,l3,l4):\n",
    "        self.len1=l1\n",
    "        self.len2=l2\n",
    "        self.len3=l3\n",
    "        self.len4=l4\n",
    "        self.square_list.append((self.len1,self.len2,self.len3,self.len4))\n",
    "        \n",
    "    def size(self):\n",
    "        print('{} by {} by {} by {}'.format(self.len1,self.len2,self.len3,self.len4))\n",
    "        \n",
    "#print(self.len1+'by'+self.len2+'by',,,,)\n",
    "\n"
   ]
  },
  {
   "cell_type": "code",
   "execution_count": 12,
   "metadata": {},
   "outputs": [
    {
     "name": "stdout",
     "output_type": "stream",
     "text": [
      "[(10, 4, 4, 3), (39, 3, 39, 3)]\n"
     ]
    }
   ],
   "source": [
    "sq1 = Square(10,4,4,3)\n",
    "sq2 = Square(39,3,39,3)\n",
    "print(Square.square_list)"
   ]
  },
  {
   "cell_type": "code",
   "execution_count": 13,
   "metadata": {},
   "outputs": [
    {
     "name": "stdout",
     "output_type": "stream",
     "text": [
      "10 by 20 by 30 by 40\n"
     ]
    }
   ],
   "source": [
    "sq1=Square(10,20,30,40)\n",
    "sq1.size()"
   ]
  },
  {
   "cell_type": "code",
   "execution_count": 14,
   "metadata": {},
   "outputs": [],
   "source": [
    "class Person:\n",
    "    def __init__(self,y,t):\n",
    "        self.years=y\n",
    "        self.type=t\n",
    "        \n"
   ]
  },
  {
   "cell_type": "code",
   "execution_count": 19,
   "metadata": {},
   "outputs": [
    {
     "name": "stdout",
     "output_type": "stream",
     "text": [
      "True\n",
      "False\n"
     ]
    }
   ],
   "source": [
    "\n",
    "bob=Person(49,'A')\n",
    "jon=bob\n",
    "print(bob is jon)\n",
    "\n",
    "ken=Person(49,'A')\n",
    "print(jon is ken)"
   ]
  },
  {
   "cell_type": "code",
   "execution_count": null,
   "metadata": {},
   "outputs": [],
   "source": []
  }
 ],
 "metadata": {
  "kernelspec": {
   "display_name": "Python 3",
   "language": "python",
   "name": "python3"
  },
  "language_info": {
   "codemirror_mode": {
    "name": "ipython",
    "version": 3
   },
   "file_extension": ".py",
   "mimetype": "text/x-python",
   "name": "python",
   "nbconvert_exporter": "python",
   "pygments_lexer": "ipython3",
   "version": "3.8.3"
  }
 },
 "nbformat": 4,
 "nbformat_minor": 4
}
